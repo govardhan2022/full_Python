{
 "cells": [
  {
   "cell_type": "markdown",
   "id": "17d32ec4-4191-4bf6-b2e7-63d319bb0d4e",
   "metadata": {},
   "source": [
    "# class\n",
    "### class = blue print\n",
    "### object = instance of a class or objects are created from classes\n",
    "### init built in functn"
   ]
  },
  {
   "cell_type": "code",
   "execution_count": 42,
   "id": "26c41a87-b7a8-4a85-8e41-b9f27938f32d",
   "metadata": {},
   "outputs": [],
   "source": [
    "#class\n",
    "class Giri:\n",
    "    g=7"
   ]
  },
  {
   "cell_type": "code",
   "execution_count": 44,
   "id": "32b5cdcd-03b8-4a73-ac3c-77e19bba25fa",
   "metadata": {},
   "outputs": [
    {
     "name": "stdout",
     "output_type": "stream",
     "text": [
      "7\n"
     ]
    }
   ],
   "source": [
    "#object\n",
    "class Giri:\n",
    "    g=7\n",
    "g1=Giri()\n",
    "print(g1.g)\n"
   ]
  },
  {
   "cell_type": "code",
   "execution_count": 48,
   "id": "813973ee-cccb-4656-9d83-5a3d2bfebe72",
   "metadata": {},
   "outputs": [
    {
     "name": "stdout",
     "output_type": "stream",
     "text": [
      "Gov\n",
      "AI&DS\n"
     ]
    }
   ],
   "source": [
    "# init built in functn\n",
    "class Giri1:\n",
    "    def __init__(self, name, dept, age):\n",
    "        self.name=name\n",
    "        self.dept=dept\n",
    "        self.age=age\n",
    "g1=Giri1('Gov', 'AI&DS', 22)\n",
    "print(g1.name)\n",
    "print(g1.dept)"
   ]
  },
  {
   "cell_type": "code",
   "execution_count": 76,
   "id": "ac9f85e9-5d3c-4640-8d96-7cfc4998bee6",
   "metadata": {},
   "outputs": [
    {
     "name": "stdout",
     "output_type": "stream",
     "text": [
      "Gov aids(22)\n"
     ]
    }
   ],
   "source": [
    "#str()\n",
    "# f or F which means f-string (format or formatting)\n",
    "#include variables and expressions within {}\n",
    "class Giri:\n",
    "    def __init__(self, name, dept, age):\n",
    "        self.name=name\n",
    "        self.dept=dept\n",
    "        self.age=age\n",
    "    def __str__(self):\n",
    "        return f\"{self.name} {self.dept}({self.age})\"\n",
    "g1=Giri('Gov', 'aids', 22)\n",
    "print(g1)"
   ]
  },
  {
   "cell_type": "code",
   "execution_count": 421,
   "id": "819cfca7-d2d5-479d-afaf-cc44fd4db2b0",
   "metadata": {},
   "outputs": [
    {
     "name": "stdout",
     "output_type": "stream",
     "text": [
      "my dept is aids\n",
      "my name is Govardhan\n"
     ]
    }
   ],
   "source": [
    "#inserting a new functn\n",
    "class Giri:\n",
    "    def __init__(self, name, dept):\n",
    "        self.name=name\n",
    "        self.dept=dept\n",
    "    def newf(self):\n",
    "        print('my name is ' + self.name)\n",
    "    def newf1(self):\n",
    "        print('my dept is ' + self.dept)\n",
    "g1=Giri('Govardhan', 'aids')\n",
    "g1.newf1()\n",
    "g1.newf()"
   ]
  },
  {
   "cell_type": "code",
   "execution_count": null,
   "id": "fca3a832-51d5-432b-a454-68b5644a7f85",
   "metadata": {},
   "outputs": [],
   "source": []
  },
  {
   "cell_type": "code",
   "execution_count": null,
   "id": "50ca6169-6d2f-4fc3-8343-9e2b39bedacc",
   "metadata": {},
   "outputs": [],
   "source": []
  },
  {
   "cell_type": "markdown",
   "id": "d6a0602e-6316-4fe3-b75a-3c036e326da2",
   "metadata": {},
   "source": [
    "Python Regular Expressions:\r\n",
    "=========================\r\n",
    "A RegEx, or Regular Expression, is a sequence of charecters that forms a search \r\n",
    "pattern.\r\n",
    "\r\n",
    "RegEx can be used to check if a string contains the specified search pattern.\r\n",
    "\r\n",
    "RegEx Module:\r\n",
    "----------------------\r\n",
    "Python has a built-in package called re, which can be used to work with Regular \r\n",
    "Expressions.\r\n",
    "\r\n",
    "Import the re Module:\r\n",
    "-------------------------------\r\n",
    "import re\r\n",
    "\r\n",
    "RegEx in Python:\r\n",
    "--------------------------\r\n",
    "When you have imported the re module, you can start using regular expressions:"
   ]
  },
  {
   "cell_type": "code",
   "execution_count": 71,
   "id": "074db511-6dfc-4fc7-8599-2298650aeb51",
   "metadata": {},
   "outputs": [
    {
     "name": "stdout",
     "output_type": "stream",
     "text": [
      "Yes! words r there in the text\n"
     ]
    }
   ],
   "source": [
    "#using search()\n",
    "#Example: Search the string if it starts with \"There\" and ends with \"World\":\n",
    "\n",
    "import re\n",
    "text='There are seven wonders in the World'\n",
    "x=re.search(\"^There.*World$\",text)\n",
    "if x:\n",
    "    print('Yes! words r there in the text')\n",
    "else :\n",
    "    print('No! not there')"
   ]
  },
  {
   "cell_type": "markdown",
   "id": "c403ad92-901a-4064-8520-0b5d5fe24e79",
   "metadata": {},
   "source": [
    "# RegEx Functions:\n",
    "\n",
    "The 're' module offers a set of functions that allows us to search a string for a match.\n",
    "\n",
    "## 1) The findall() function:\n",
    "The findall() function returns a list containing all matches.hes."
   ]
  },
  {
   "cell_type": "code",
   "execution_count": 132,
   "id": "751cf88b-a53a-4095-a4c7-04d2554d452a",
   "metadata": {},
   "outputs": [
    {
     "name": "stdout",
     "output_type": "stream",
     "text": [
      "['re', 're']\n"
     ]
    }
   ],
   "source": [
    "#1) findall()\n",
    "#Return a list containing every occurrence of \"ai\":\n",
    "\n",
    "import re\n",
    "text='There are seven wonders in the World'\n",
    "x=re.findall('re',text)\n",
    "print(x)"
   ]
  },
  {
   "cell_type": "code",
   "execution_count": 116,
   "id": "295b8891-e26f-4dfa-9516-5eb2d37c933a",
   "metadata": {},
   "outputs": [
    {
     "name": "stdout",
     "output_type": "stream",
     "text": [
      "['re', 're']\n",
      "2\n"
     ]
    }
   ],
   "source": [
    "import re\n",
    "text='There are seven wonders in the World'\n",
    "x=re.findall('re',text)\n",
    "z=len(x)\n",
    "print(x)\n",
    "print(z)"
   ]
  },
  {
   "cell_type": "code",
   "execution_count": 160,
   "id": "5f92478e-c24e-47c2-a65e-71d0063061b4",
   "metadata": {},
   "outputs": [
    {
     "name": "stdout",
     "output_type": "stream",
     "text": [
      "['re', 're']\n",
      "the entered character is repeated  2  times\n"
     ]
    }
   ],
   "source": [
    "import re\n",
    "text='There are seven wonders in the World'\n",
    "x=re.findall('re',text)\n",
    "z=len(x)\n",
    "print(x)\n",
    "print('the entered character is repeated ', z , ' times')"
   ]
  },
  {
   "cell_type": "code",
   "execution_count": 184,
   "id": "dc9f4b5a-1161-48ed-90a6-5c1c7e0ae0e6",
   "metadata": {},
   "outputs": [
    {
     "name": "stdin",
     "output_type": "stream",
     "text": [
      "enter the letter e\n"
     ]
    },
    {
     "name": "stdout",
     "output_type": "stream",
     "text": [
      "['e', 'e', 'e', 'e', 'e', 'e', 'e'] 7\n"
     ]
    }
   ],
   "source": [
    "import re\n",
    "text='There are seven wonders in the World'\n",
    "y=input('enter the letter')\n",
    "x=re.findall(y,text)\n",
    "z=len(x)\n",
    "\n",
    "print(x,z)"
   ]
  },
  {
   "cell_type": "code",
   "execution_count": 230,
   "id": "8e5d07cb-6817-415b-8e38-d6b8cf8dfa3d",
   "metadata": {},
   "outputs": [
    {
     "name": "stdin",
     "output_type": "stream",
     "text": [
      "enter the letter e\n"
     ]
    },
    {
     "name": "stdout",
     "output_type": "stream",
     "text": [
      "['e', 'e', 'e', 'e', 'e', 'e', 'e'] \n",
      " 7\n"
     ]
    }
   ],
   "source": [
    "import re\n",
    "text='There are seven wonders in the World'\n",
    "y=input('enter the letter')\n",
    "x=re.findall(y,text)\n",
    "z=len(x)\n",
    "\n",
    "print(x,'\\n',z)"
   ]
  },
  {
   "cell_type": "code",
   "execution_count": 120,
   "id": "6867f120-ec7f-4257-921a-5b3997b0e463",
   "metadata": {},
   "outputs": [
    {
     "name": "stdin",
     "output_type": "stream",
     "text": [
      "enter the letter e\n"
     ]
    },
    {
     "name": "stdout",
     "output_type": "stream",
     "text": [
      "['e', 'e', 'e', 'e', 'e', 'e', 'e']\n",
      "the entered character is repeated 7 times\n"
     ]
    }
   ],
   "source": [
    "import re\n",
    "text='There are seven wonders in the World'\n",
    "y=input('enter the letter')\n",
    "x=re.findall(y,text)\n",
    "\n",
    "print(x)\n",
    "print('the entered character is repeated '+str(len(x)) + ' times')"
   ]
  },
  {
   "cell_type": "code",
   "execution_count": 108,
   "id": "88db96c8-2fe9-434e-b510-b757556c759f",
   "metadata": {},
   "outputs": [
    {
     "name": "stdin",
     "output_type": "stream",
     "text": [
      "enter a character g\n"
     ]
    },
    {
     "name": "stdout",
     "output_type": "stream",
     "text": [
      "['g', 'g']\n",
      "the entered character is repeated 2 times\n"
     ]
    }
   ],
   "source": [
    "import re\n",
    "sen='hello good morning people'\n",
    "y=input('enter a character')\n",
    "x=re.findall(y,sen)\n",
    "\n",
    "if x:\n",
    "    print(x)\n",
    "   \n",
    "    print('the entered character is repeated '+str(len(x)) + ' times')\n",
    "else:\n",
    "    print('no letter')"
   ]
  },
  {
   "cell_type": "code",
   "execution_count": 122,
   "id": "91250bf6-0f65-4c1b-9801-d3fb70fa0727",
   "metadata": {},
   "outputs": [
    {
     "name": "stdin",
     "output_type": "stream",
     "text": [
      "enter a character z\n"
     ]
    },
    {
     "name": "stdout",
     "output_type": "stream",
     "text": [
      "no letter\n"
     ]
    }
   ],
   "source": [
    "import re\n",
    "sen='hello good morning people'\n",
    "y=input('enter a character')\n",
    "x=re.findall(y,sen)\n",
    "\n",
    "if x:\n",
    "    print(x)\n",
    "   \n",
    "    print('the entered character is repeated '+str(len(x)) + ' times')\n",
    "else:\n",
    "    print('no letter')"
   ]
  },
  {
   "cell_type": "code",
   "execution_count": 124,
   "id": "b88f46d5-034f-4dda-a7a4-621a7852c61a",
   "metadata": {},
   "outputs": [
    {
     "name": "stdout",
     "output_type": "stream",
     "text": [
      "[]\n"
     ]
    }
   ],
   "source": [
    "import re\n",
    "sen='There are seven wonders in the World'\n",
    "x=re.findall('dog',sen)\n",
    "print(x)"
   ]
  },
  {
   "cell_type": "markdown",
   "id": "7b6a18d1-28f2-41d6-ab5f-eb2b0b41ef2a",
   "metadata": {},
   "source": [
    "## 2) The search() Function:-\r\n",
    "The search() function searches the string for a match, and returns a Match object if \r\n",
    "there is a match.\r\n",
    "\r\n",
    "If there is more than one match, only the first occurrence of the match will be \r\n",
    "returned.\r\n",
    "\r\n",
    "Example: Search for the first white-space character in the string."
   ]
  },
  {
   "cell_type": "code",
   "execution_count": 134,
   "id": "296e8675-8f5f-4b7e-8e13-f70efa47e2e2",
   "metadata": {},
   "outputs": [
    {
     "name": "stdout",
     "output_type": "stream",
     "text": [
      "The first white-space character is located in position: 5\n"
     ]
    },
    {
     "name": "stderr",
     "output_type": "stream",
     "text": [
      "<>:5: SyntaxWarning: invalid escape sequence '\\s'\n",
      "<>:5: SyntaxWarning: invalid escape sequence '\\s'\n",
      "C:\\Users\\USER\\AppData\\Local\\Temp\\ipykernel_9852\\3109756145.py:5: SyntaxWarning: invalid escape sequence '\\s'\n",
      "  x = re.search(\"\\s\", txt)\n"
     ]
    }
   ],
   "source": [
    "# 2)search(), start\n",
    "import re\n",
    "\n",
    "txt = \"There are seven wonders in the World\"\n",
    "x = re.search(\"\\s\", txt)\n",
    "\n",
    "print(\"The first white-space character is located in position:\", x.start())"
   ]
  },
  {
   "cell_type": "code",
   "execution_count": 136,
   "id": "deeeaa35-0d27-4c13-b2c4-6b766be7551c",
   "metadata": {},
   "outputs": [],
   "source": [
    "import warnings\n",
    "warnings.filterwarnings('ignore')"
   ]
  },
  {
   "cell_type": "code",
   "execution_count": 138,
   "id": "5fa0314a-791e-4262-a131-5321cac6fe6f",
   "metadata": {},
   "outputs": [
    {
     "name": "stdout",
     "output_type": "stream",
     "text": [
      "The first white-space character is located in position: 5\n"
     ]
    }
   ],
   "source": [
    "import re\n",
    "\n",
    "txt = \"There are seven wonders in the World\"\n",
    "x = re.search(\"\\s\", txt)\n",
    "\n",
    "print(\"The first white-space character is located in position:\", x.start())"
   ]
  },
  {
   "cell_type": "code",
   "execution_count": 164,
   "id": "8714ce84-1927-47ab-8a63-ec0d4937a1b1",
   "metadata": {},
   "outputs": [
    {
     "name": "stdout",
     "output_type": "stream",
     "text": [
      "5\n"
     ]
    }
   ],
   "source": [
    "import re\n",
    "\n",
    "txt = \"There are seven wonders in the World\"\n",
    "x = re.search(\"\\s\", txt)\n",
    "\n",
    "print(x.start())"
   ]
  },
  {
   "cell_type": "code",
   "execution_count": 236,
   "id": "80965cbb-c8c3-43fd-a38b-3563bfa796bd",
   "metadata": {},
   "outputs": [
    {
     "name": "stdout",
     "output_type": "stream",
     "text": [
      "6\n"
     ]
    }
   ],
   "source": [
    "# search(), end\n",
    "import re\n",
    "\n",
    "txt = \"There are seven wonders in the World\"\n",
    "x = re.search(\"\\s\", txt)\n",
    "\n",
    "print(x.end())"
   ]
  },
  {
   "cell_type": "code",
   "execution_count": 244,
   "id": "b86029f2-d5de-473d-8689-d8efc1d600ee",
   "metadata": {},
   "outputs": [
    {
     "name": "stdout",
     "output_type": "stream",
     "text": [
      "None\n"
     ]
    }
   ],
   "source": [
    "#If no matches are found, the value None is returned.\n",
    "\n",
    "#Example: Make a search that returns no match:\n",
    "\n",
    "import re\n",
    "\n",
    "txt = \"There are seven wonders in the World \"\n",
    "x = re.search(\"Country\", txt)\n",
    "print(x)\n"
   ]
  },
  {
   "cell_type": "code",
   "execution_count": 246,
   "id": "d263f447-8967-4cdf-a021-2f3b845eaa0e",
   "metadata": {},
   "outputs": [
    {
     "name": "stdout",
     "output_type": "stream",
     "text": [
      "<re.Match object; span=(10, 15), match='seven'>\n"
     ]
    }
   ],
   "source": [
    "txt='There are seven wonders in the World'\n",
    "x=re.search('seven',txt)\n",
    "print(x)"
   ]
  },
  {
   "cell_type": "markdown",
   "id": "34e5bc4c-2383-4530-a872-11017fad5fee",
   "metadata": {},
   "source": [
    "## 3) The split() Function:-\r\n",
    "The split() function returns a list where the string has been split at each match.\r\n",
    "\r\n",
    "Example: Split at each white-space charecter.\r\n"
   ]
  },
  {
   "cell_type": "code",
   "execution_count": 255,
   "id": "ebcb867d-880a-4a0e-bda3-ef19840f2967",
   "metadata": {},
   "outputs": [
    {
     "name": "stdout",
     "output_type": "stream",
     "text": [
      "['There', 'are', 'seven', 'wonders', 'in', 'the', 'World']\n"
     ]
    }
   ],
   "source": [
    "txt='There are seven wonders in the World'\n",
    "x=re.split('\\s',txt)\n",
    "print(x)"
   ]
  },
  {
   "cell_type": "code",
   "execution_count": 287,
   "id": "d42b5d09-9d0d-4bac-b10c-ca3bc598e1cd",
   "metadata": {},
   "outputs": [
    {
     "name": "stdout",
     "output_type": "stream",
     "text": [
      "['There', 'are', 'seven', 'wonders in the World']\n"
     ]
    }
   ],
   "source": [
    "txt='There are seven wonders in the World'\n",
    "x=re.split('\\s',txt,3)\n",
    "print(x)"
   ]
  },
  {
   "cell_type": "code",
   "execution_count": 387,
   "id": "48528665-192c-4e2c-aa8b-eae7b16b69d6",
   "metadata": {},
   "outputs": [
    {
     "name": "stdout",
     "output_type": "stream",
     "text": [
      "['There are seven wonders in the ', '']\n"
     ]
    }
   ],
   "source": [
    "txt='There are seven wonders in the World'\n",
    "x=re.split(r'\\bW\\w+',txt)\n",
    "print(x)"
   ]
  },
  {
   "cell_type": "markdown",
   "id": "1a36792f-7a7d-43fa-b039-5480e949cf77",
   "metadata": {},
   "source": [
    "## Match \n",
    "### 4) The sub() Function:-\r\n",
    "The sub() function replaces the matches with the text of your choice.\r\n",
    "\r\n",
    "Example: Replace every white-space charecter with the number 9:"
   ]
  },
  {
   "cell_type": "code",
   "execution_count": 302,
   "id": "7452f910-ce87-4181-a7b5-1e4aeafd7af1",
   "metadata": {},
   "outputs": [
    {
     "name": "stdout",
     "output_type": "stream",
     "text": [
      "There7are7seven7wonders7in7the7World\n"
     ]
    }
   ],
   "source": [
    "txt='There are seven wonders in the World'\n",
    "x=re.sub('\\s','7',txt)\n",
    "print(x)"
   ]
  },
  {
   "cell_type": "code",
   "execution_count": 324,
   "id": "6bea10f2-5b22-44bd-9466-c5313d2cd10e",
   "metadata": {},
   "outputs": [
    {
     "name": "stdout",
     "output_type": "stream",
     "text": [
      "There7are7seven7wonders in the World\n"
     ]
    }
   ],
   "source": [
    "#You can control the number of replacements by specifying the count parameter.\n",
    "#Example: Replace the first 2 occurrences:\n",
    "#eplace the first two occurrences of a white-space character with the digit 9:\n",
    "txt='There are seven wonders in the World'\n",
    "x=re.sub('\\s','7',txt,3)\n",
    "print(x)"
   ]
  },
  {
   "cell_type": "markdown",
   "id": "44231c48-5edd-4ede-84d9-0ee117e6f9b1",
   "metadata": {},
   "source": [
    "### 5) span() the sub function in search()\n",
    "-----\n",
    "\n",
    "example) Print the position (start- and end-position) of the first match occurrence.\n",
    "\n",
    "The regular expression looks for any words that starts with an upper case \"S\".\n",
    "\n",
    "Search for an upper case \"S\" character in the beginning of a word, and print its position:"
   ]
  },
  {
   "cell_type": "code",
   "execution_count": 352,
   "id": "9a4e5781-c1fb-4a9b-aafd-52471f533ad3",
   "metadata": {},
   "outputs": [
    {
     "name": "stdout",
     "output_type": "stream",
     "text": [
      "(31, 36)\n"
     ]
    }
   ],
   "source": [
    "txt='There are seven wonders in the World Wow'\n",
    "x=re.search(r'\\bW\\w+',txt)\n",
    "print(x.span())"
   ]
  },
  {
   "cell_type": "markdown",
   "id": "ddf916dd-14ab-41ca-9138-1740af2e016f",
   "metadata": {},
   "source": [
    "### string\n",
    "----\n",
    "Example: Print the string passed into the function:-\n",
    "\r\n",
    "#The string property returns the search string:"
   ]
  },
  {
   "cell_type": "code",
   "execution_count": 364,
   "id": "03d05b37-3fc9-44e5-8c33-a42486cab4b6",
   "metadata": {},
   "outputs": [
    {
     "name": "stdout",
     "output_type": "stream",
     "text": [
      "There are seven wonders in the World\n"
     ]
    }
   ],
   "source": [
    "txt='There are seven wonders in the World'\n",
    "x=re.search('\\s',txt)\n",
    "print(x.string)"
   ]
  },
  {
   "cell_type": "code",
   "execution_count": 370,
   "id": "ffe4bac1-ce18-4a10-9a89-e9e3c209720c",
   "metadata": {},
   "outputs": [
    {
     "name": "stdout",
     "output_type": "stream",
     "text": [
      "['There are seven wonders in the World']\n"
     ]
    }
   ],
   "source": [
    "txt='There are seven wonders in the World'\n",
    "x=re.split('\\str',txt)\n",
    "print(x)"
   ]
  },
  {
   "cell_type": "markdown",
   "id": "21cbb1a9-3586-49c7-aa93-0c919dc76161",
   "metadata": {},
   "source": [
    "### 6) group() sub of search()\n",
    "---\n",
    "\n",
    "Example: Print the part of the string where there was a match.\n",
    "\n",
    "The regular expression looks for any words that starts with an upper case \"S\":\n",
    "\n",
    "Search for an upper case \"S\" character in the beginning of a word, and print the word: word:"
   ]
  },
  {
   "cell_type": "code",
   "execution_count": 406,
   "id": "22c0bc36-c0b4-4d21-a75c-3bdeb53727eb",
   "metadata": {},
   "outputs": [
    {
     "name": "stdout",
     "output_type": "stream",
     "text": [
      "World\n"
     ]
    }
   ],
   "source": [
    "txt='There are seven wonders in the World'\n",
    "x=re.search(r'\\bW\\w+',txt)\n",
    "print(x.group())"
   ]
  },
  {
   "cell_type": "code",
   "execution_count": null,
   "id": "c839677e-d325-4b05-877f-aa8f3a707dd0",
   "metadata": {},
   "outputs": [],
   "source": []
  },
  {
   "cell_type": "markdown",
   "id": "731d29c1-1335-4feb-b06d-311e101f2316",
   "metadata": {},
   "source": [
    "# Python Date&Time Module:\n",
    "---\n",
    "A date in python is not a data type of its own, but we can import a module named \n",
    "datetime to work with dates as date objects.\n",
    "\n",
    "Example: Import the datetime module and display the current date"
   ]
  },
  {
   "cell_type": "code",
   "execution_count": 48,
   "id": "66114c52-2f5f-49d0-ba4d-724a3837b70e",
   "metadata": {},
   "outputs": [
    {
     "name": "stdout",
     "output_type": "stream",
     "text": [
      "2024-09-01 13:52:03.932715\n"
     ]
    }
   ],
   "source": [
    "import datetime\n",
    "\n",
    "x = datetime.datetime.now()\n",
    "\n",
    "print(x)"
   ]
  },
  {
   "cell_type": "code",
   "execution_count": 78,
   "id": "9c0aae89-b011-4a5a-a5c0-842387cabba3",
   "metadata": {},
   "outputs": [
    {
     "name": "stdout",
     "output_type": "stream",
     "text": [
      "2024\n",
      "9\n",
      "13 57 22\n",
      "1\n"
     ]
    }
   ],
   "source": [
    "import datetime\n",
    "x=datetime.datetime.now()\n",
    "print(x.year)\n",
    "print(x.month)\n",
    "print(x.hour,x.minute,x.second)\n",
    "print(x.day)"
   ]
  },
  {
   "cell_type": "code",
   "execution_count": 392,
   "id": "6357dc42-6066-46f2-918f-a628bffe1868",
   "metadata": {},
   "outputs": [
    {
     "name": "stdout",
     "output_type": "stream",
     "text": [
      "(2024, 9, 1, 21, 12)\n"
     ]
    }
   ],
   "source": [
    "import datetime\n",
    "x=datetime.datetime.now()\n",
    "print((x.minute,x.hour,x.day,x.month,x.year)[::-1])"
   ]
  },
  {
   "cell_type": "code",
   "execution_count": 438,
   "id": "b6a2a6eb-106a-4bb2-b9f9-3b0596eb13f7",
   "metadata": {},
   "outputs": [
    {
     "name": "stdout",
     "output_type": "stream",
     "text": [
      "Sunday\n",
      "Sun\n",
      "September\n",
      "Sep\n",
      "20\n",
      "Sun Sep  1 21:27:29 2024\n",
      "01\n",
      "09/01/24\n",
      "09/01/24\n",
      "21:27:29\n",
      "09:27 29 PM\n"
     ]
    }
   ],
   "source": [
    "import datetime\n",
    "x=datetime.datetime.now()\n",
    "print(x.strftime('%A'))\n",
    "print(x.strftime('%a'))\n",
    "print(x.strftime('%B'))\n",
    "print(x.strftime('%b'))\n",
    "print(x.strftime('%C'))\n",
    "print(x.strftime('%c'))\n",
    "print(x.strftime('%d'))\n",
    "print(x.strftime('%D'))\n",
    "print(x.strftime('%x'))\n",
    "print(x.strftime('%X'))\n",
    "print(x.strftime('%I:%M %S %p'))"
   ]
  },
  {
   "cell_type": "code",
   "execution_count": 300,
   "id": "f8cb91dc-fe19-4dbe-ac4e-9a3b5bafcab1",
   "metadata": {},
   "outputs": [
    {
     "name": "stdout",
     "output_type": "stream",
     "text": [
      "2001-11-23 00:00:00\n"
     ]
    }
   ],
   "source": [
    "x=datetime.datetime(2001,11,23)\n",
    "print(x)"
   ]
  },
  {
   "cell_type": "code",
   "execution_count": 388,
   "id": "129c8144-72ec-476d-834f-72a7b0819e4d",
   "metadata": {},
   "outputs": [
    {
     "name": "stdout",
     "output_type": "stream",
     "text": [
      "Friday\n"
     ]
    }
   ],
   "source": [
    "x=datetime.datetime(2001,11,23)\n",
    "print(x.strftime('%A'))"
   ]
  },
  {
   "cell_type": "code",
   "execution_count": 398,
   "id": "709e7f88-e3b7-4e8f-8a01-1dc20017edd8",
   "metadata": {},
   "outputs": [
    {
     "name": "stdout",
     "output_type": "stream",
     "text": [
      "June\n"
     ]
    }
   ],
   "source": [
    "# The datetime() class also takes parameters for time and timezone (hour, \n",
    "# minute, second, microsecond, tzone), but they are optional, and has a default value \n",
    "# of 0, (None for timezone).\n",
    "\n",
    "# The strftime() Method:\n",
    "# -------------------------------\n",
    "# The datetime object has a method for formatting date objects into readable strings.\n",
    "\n",
    "# The method is called strftime(), and takes one parameter, format, to specify the format of the returned string:\n",
    "\n",
    "# Example: Display the name of the month:\n",
    "\n",
    "x = datetime.datetime(2018, 6, 1)\n",
    "\n",
    "print(x.strftime(\"%B\"))"
   ]
  },
  {
   "cell_type": "code",
   "execution_count": null,
   "id": "ebd348c1-5d8c-4e42-bc53-20b893a5b185",
   "metadata": {},
   "outputs": [],
   "source": []
  }
 ],
 "metadata": {
  "kernelspec": {
   "display_name": "Python 3 (ipykernel)",
   "language": "python",
   "name": "python3"
  },
  "language_info": {
   "codemirror_mode": {
    "name": "ipython",
    "version": 3
   },
   "file_extension": ".py",
   "mimetype": "text/x-python",
   "name": "python",
   "nbconvert_exporter": "python",
   "pygments_lexer": "ipython3",
   "version": "3.12.4"
  }
 },
 "nbformat": 4,
 "nbformat_minor": 5
}
